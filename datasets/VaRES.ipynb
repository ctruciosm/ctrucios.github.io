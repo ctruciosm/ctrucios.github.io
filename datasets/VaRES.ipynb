{
  "nbformat": 4,
  "nbformat_minor": 0,
  "metadata": {
    "colab": {
      "provenance": []
    },
    "kernelspec": {
      "name": "ir",
      "display_name": "R"
    },
    "language_info": {
      "name": "R"
    }
  },
  "cells": [
    {
      "cell_type": "markdown",
      "source": [
        "# Medidas de Risco no Mercado Financeiro\n",
        "\n",
        "Além da volatilidade, existem outras medidas de risco amplamente utilizadas no mercado financeiro:\n",
        "\n",
        "- Value-at-Risk (VaR).\n",
        "- Expected Shortfall (ES).\n",
        "\n",
        "Ambas as medidas de risco são obrigatórias pelos acordos de Basileia II e Basileia III, respectivamente.\n",
        "\n",
        "> **Os modelos de volatilidade já estudados são fundamentais na previsão destas medidas de risco.**\n"
      ],
      "metadata": {
        "id": "nQZbf47fepk1"
      }
    },
    {
      "cell_type": "markdown",
      "source": [
        "## Value-at-Risk (VaR):\n",
        "\n",
        "O VaR é a perda máxima de uma carteira de investimentos (ou ativo financeiro) para um horizonte de tempo específico com um determinado nível de probabilidade.\n",
        "\n",
        "Seja $\\textbf{r}_T = (r_T, r_{T-1}, \\cdots, r_1)$ o retorno de uma carteira de investimento (ou ativo financeiro) até o tempo $T$. O VaR h passos à frente de nível $\\alpha$, denotado por $\\text{VaR}^\\alpha_{T+h|T}$, é um número tal que \n",
        "$$\\mathbb{P} \\big( r_{T+h} \\leq \\text{VaR}^{\\alpha}_{T+h|T} \\big) = \\alpha$$\n",
        "\n",
        "> **A probabilidade dos retorno no tempo $T + h$ ser menor ou igual do que o $\\text{VaR}^\\alpha_{T+h|T}$ é $\\alpha$**.\n",
        "\n",
        "\n",
        "Valores de $\\alpha$ utilizados na prática são $\\alpha = 0.01$ (1\\%) e $\\alpha = 0.025$ (2.5\\%). "
      ],
      "metadata": {
        "id": "I6SD9GynfLEJ"
      }
    },
    {
      "cell_type": "markdown",
      "source": [
        "Suponha que $$r_{T+h}|\\mathcal{F}_{T} \\sim WS(0, \\sigma^2_{T+h}).$$\n",
        "\n",
        "O $\\text{VaR}_{T+h|T}^{\\alpha}$, é um número $k$, tal que $$\\mathbb{P}_T(r_{T+H} \\leq k) = \\alpha$$\n",
        "\n",
        "Então o $$\\text{VaR}_{T+h|T}^{\\alpha} = F^{-1}(\\alpha),$$ em que $F^{-1}(\\cdot)$ é a distribuição acumulada de $r_{T+h}|\\mathcal{F}_{T}$.\n",
        "\n",
        "Quando $$r_{T+h}|\\mathcal{F}_{T} \\sim N(0, \\sigma^2_{T+h}),$$ temos que  $$\\text{VaR}_{T+h|T}^{\\alpha} = \\sigma_{T+h} z_{\\alpha/2}.$$\n",
        "\n",
        "\n",
        "Se $\\mu \\geq 0$, digamos $$r_{T+h}|\\mathcal{F}_{T} \\sim N(\\mu_{T+h}, \\sigma^2_{T+h}),$$ temos que  $$\\text{VaR}_{T+h|T}^{\\alpha} = \\mu_{T+h} + \\sigma_{T+h} z_{\\alpha/2}.$$\n",
        "\n",
        "\n"
      ],
      "metadata": {
        "id": "g6r4ZQInhwMy"
      }
    },
    {
      "cell_type": "markdown",
      "source": [
        "Na prática, não conhecemos $\\sigma_{T+h}$, sendo necessário estimar este valor (fazer previsão da volatilidade). **É aqui onde utilizamos os modelos de volatilidade.** "
      ],
      "metadata": {
        "id": "Ny_9ULbtkZJD"
      }
    },
    {
      "cell_type": "markdown",
      "source": [
        "Caso existe evidência de que $\\mu_{T+h} = \\mu$, basta estimar $\\mu$ por $\\hat{\\mu} = \\bar{r}$. Se $\\mu_{T+h}$ evolui ao longo do tempo, utilizamos, por exemplo, os modelos ARMA."
      ],
      "metadata": {
        "id": "fmjsdlZYkztf"
      }
    },
    {
      "cell_type": "markdown",
      "source": [
        "## Expected Shortfall (ES)\n",
        "\n",
        "O VaR é a perda máxima para um periodo de tempo com um nível determindo de probabilidade. \n",
        "\n",
        "Assumindo que a distribuição de $r_{T+h}|\\mathcal{F}_{T}$ é absolutamente contínua, o ES de nível $\\alpha$ h passos à frente é dado por\n",
        "$$\\text{ES}^\\alpha_{T+h|T}(r)=\\mathbb{E}\\big[r_{T+h} \\ \\big\\rvert\\ r_{T+h} \\leq \\text{VaR}^\\alpha_{T+h|T} \\big].$$\n",
        "\n",
        "\n",
        "Se $f(\\cdot)$ for a distribuição de $r_{T+h}|\\mathcal{F}_{T}$, então $$ES_{T+h|T}^{\\alpha} = \\dfrac{1}{\\alpha}\\displaystyle \\int_{-\\infty}^{\\text{VaR}_{T+h|T}^{\\alpha}} x f(x) dx$$"
      ],
      "metadata": {
        "id": "XHEfCz3ylhW7"
      }
    },
    {
      "cell_type": "markdown",
      "source": [
        "Utilizando, por exemplo, os modelos ARMA-GARCH, temos $\\hat{f}(\\cdot)$ e $\\widehat{\\text{VaR}}_{T+h|T}^{\\alpha}$, bastando apenas fazer a integral.\n",
        "\n"
      ],
      "metadata": {
        "id": "EWvc4bZRrnjW"
      }
    },
    {
      "cell_type": "markdown",
      "source": [
        "> **Na prática, nem o VaR nem o ES s são observados. Como podemos então saber se o método utilizado fez boas previsões do VaR e/ou ES?**\n",
        "\n",
        "\n",
        "Na literatura de econometria financeira existem ferramentas para fazer isto. Uma delas é o uso de teste de calibração (teste de hipóteses), existem diversos testes e uma discussão deles está fora do escopo desta matéria, mas uma revisão delas pode ser encontrado [aqui](https://www.sciencedirect.com/science/article/pii/S2452306221000563?casa_token=eAVrWRZ-d0cAAAAA:yaN2cwD2vjElfWkRjeF-6zVpbbui8J19HrglaY94OABv-nnq_O44igDx90aB1tsL-KI_nk_79-Y).\n",
        "\n",
        "Em geral, podemos considerar que $H_0$ em todos os testes é \"o VaR/ES está corretamente especificado.\" e buscamos então não rejeitar $H_0$."
      ],
      "metadata": {
        "id": "9EKBUu1RsK9m"
      }
    },
    {
      "cell_type": "markdown",
      "source": [
        "> **Existem diversas outras formas de estimar o VaR/ES, para uma recente revisão destes metodos, ver [aqui.](https://onlinelibrary.wiley.com/doi/abs/10.1002/for.2929?casa_token=dx44N6TT0JQAAAAA:WsNKYNoGoN8AELYwyjFAO3uQdWetFMHq9IOrZdtOIdK0IPqQR_TygyMk7K_xo9uFNKG-Md5m8dpXDcIc)**"
      ],
      "metadata": {
        "id": "GnPgWDyzt5BE"
      }
    }
  ]
}